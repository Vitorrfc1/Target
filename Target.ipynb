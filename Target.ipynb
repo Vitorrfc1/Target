{
  "nbformat": 4,
  "nbformat_minor": 0,
  "metadata": {
    "colab": {
      "provenance": []
    },
    "kernelspec": {
      "name": "python3",
      "display_name": "Python 3"
    },
    "language_info": {
      "name": "python"
    }
  },
  "cells": [
    {
      "cell_type": "markdown",
      "source": [
        "**1)** Dado a sequência de Fibonacci, onde se inicia por 0 e 1 e o próximo valor sempre será a soma dos 2 valores anteriores (exemplo: 0, 1, 1, 2, 3, 5, 8, 13, 21, 34...), escreva um programa na linguagem que desejar onde, informado um número, ele calcule a sequência de Fibonacci e retorne uma mensagem avisando se o número informado pertence ou não a sequência."
      ],
      "metadata": {
        "id": "3l-BFcHcJc92"
      }
    },
    {
      "cell_type": "code",
      "source": [
        "def pertence_fibonacci(numero):\n",
        "\n",
        "  a = 0\n",
        "  b = 1\n",
        "  while b < numero:\n",
        "    a, b = b, a + b\n",
        "  if b == numero:\n",
        "    return True\n",
        "  else:\n",
        "    return False\n",
        "\n",
        "numero = int(input(\"Insira um número: \"))\n",
        "\n",
        "if pertence_fibonacci(numero):\n",
        "  print(f\"O número {numero} pertence à sequência de Fibonacci.\")\n",
        "else:\n",
        "  print(f\"O número {numero} não pertence à sequência de Fibonacci.\")"
      ],
      "metadata": {
        "colab": {
          "base_uri": "https://localhost:8080/"
        },
        "id": "As7iQ17_LmL2",
        "outputId": "74205d32-fda1-42b7-f814-bcd2a81baedd"
      },
      "execution_count": 9,
      "outputs": [
        {
          "output_type": "stream",
          "name": "stdout",
          "text": [
            "Digite um número: 10\n",
            "O número 10 não pertence à sequência de Fibonacci.\n"
          ]
        }
      ]
    },
    {
      "cell_type": "markdown",
      "source": [
        "**2)** Escreva um programa que verifique, em uma string, a existência da letra ‘a’, seja maiúscula ou minúscula, além de informar a quantidade de vezes em que ela ocorre.\n"
      ],
      "metadata": {
        "id": "whamUc_nM1KV"
      }
    },
    {
      "cell_type": "code",
      "source": [
        "def verifica_letra_a(texto):\n",
        "  texto = texto.lower()\n",
        "  if 'a' in texto:\n",
        "    quantidade = texto.count('a')\n",
        "    print(f\"A letra 'a' existe na string e aparece {quantidade} vezes.\")\n",
        "  else:\n",
        "    print(\"A letra 'a' não existe na string.\")\n",
        "\n",
        "texto = input(\"Digite uma string: \")\n",
        "verifica_letra_a(texto)"
      ],
      "metadata": {
        "id": "ObW4cc5IM7ez"
      },
      "execution_count": null,
      "outputs": []
    }
  ]
}